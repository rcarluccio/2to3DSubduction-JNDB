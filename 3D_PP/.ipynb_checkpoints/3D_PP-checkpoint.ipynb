{
 "cells": [
  {
   "cell_type": "markdown",
   "metadata": {},
   "source": [
    "3-D PPseudoplastic subduction with a weak and thin upper asthenosphere (WL) in a 3-D retangular box: Carluccio et al. 2020 (in preparation)\n",
    "=====\n",
    "\n",
    "These notebook generates subducion models in Underworld2. The notebooks are broken into a general notebook for reproducing the models from scratch and post-analysis notebooks which look at the results Underworld2 gives for each case after running to steady state stage. \n",
    "\n"
   ]
  },
  {
   "cell_type": "markdown",
   "metadata": {},
   "source": [
    "Comparison between the subduction time evolution of the reference model-NO WL (RM) and a model with a WL.\n",
    "\n",
    "| RM- $\\eta_M/\\eta_{WL} = 10^{0}$| WL- $\\eta_M/\\eta_{WL} = 10^{2}$ |\n",
    "| :---: | :---: | \n",
    "| ![alt](testrm.gif) |![alt](test1.gif) |"
   ]
  },
  {
   "cell_type": "markdown",
   "metadata": {},
   "source": [
    "Case 1: Pseudo-Plastic rheology\n",
    "-------\n",
    "\n",
    "This case has a Pseudo-Plastic rheology. Plasticity is impleted near the surface and linear rheology applies deeper in the lithosphere and mantle. \n",
    "We assume Byerlee's law which describes the increase in the maximum strength of the upper crustal rocks with increasing confining pressure (depth). \n",
    "We also assume an approximation of the Drucker-Prager yield criterion, the so-called depth-dependent (henceforth denoted as DD), which introduces a friction angle and depends only on the lithostatic pressure and neglects the dynamic component. \n",
    "The rheology is described by:\n",
    "    \n",
    "\\begin{equation}\n",
    "    \\eta_{eff} =  \n",
    "        \\begin{cases}\n",
    "              \\eta_0 & \\tau < \\tau_\\textrm{y} \\\\\n",
    "              \\frac {\\tau_\\textrm{y}}{2\\dot \\varepsilon_{II}}  & \\textrm{otherwise}\n",
    "        \\end{cases}\n",
    "\\end{equation}\n",
    "\n",
    "$\\tau_{y}$, $\\eta_\\text{eff}$ and $ \\dot \\varepsilon_{II} $ are the yield stress, the effective viscosity of the plastic branch and the second invariant of the strain rate tensor, respectively.\n",
    "    \n",
    "$\\tau_\\textrm{y}$ is given by:\n",
    "\n",
    "\\begin{equation}\n",
    "     \\tau_\\textrm{y} = \\tau_{0}+\\mu \\text{p}_\\text{lith}\n",
    "\\end{equation}"
   ]
  },
  {
   "cell_type": "markdown",
   "metadata": {},
   "source": [
    "\n",
    "<img src=\"setup.png\">\n",
    "\n",
    "Scaling based on Newton's second law of motion:\n",
    "-------\n",
    "The dimensional analysis is computed accordingly with the Newton second low motion from SI to dimensionless values and viceversa:\n",
    "\n",
    "    \n",
    "\n",
    "|Values |Symbol |Scaling Factors | \n",
    "| --- | --- | --- | \n",
    " |Time | $t_{SF}$ | $\\eta_{SF}/\\sigma_{SF}$|\n",
    "    |Force |  $F_{SF}$|  $\\sigma_{SF}/(l_{SF}^{2}$|\n",
    "    |Acceleration |  $g_{SF}$   | $l_{SF}/t_{SF} /t_{SF}$  |\n",
    "    | Mass |  $m_{SF}$| $F_{SF}/g_{SF}$   |\n",
    "    \n"
   ]
  },
  {
   "cell_type": "code",
   "execution_count": 6,
   "metadata": {
    "collapsed": true
   },
   "outputs": [],
   "source": [
    "#==========================================================================\n",
    "# IMPORT LIBRARIES                #\n",
    "#==========================================================================\n",
    "import underworld as uw\n",
    "import math\n",
    "from underworld import function as fn\n",
    "import numpy as np\n",
    "import h5py\n",
    "import time\n",
    "import mpi4py\n",
    "#==========================================================================\n",
    "# Import library os\n",
    "#==========================================================================\n",
    "import os\n",
    "outputPath = os.path.join(os.path.abspath(\".\"),\"m1data/\")\n",
    "\n",
    "if uw.rank()==0:\n",
    "    if not os.path.exists(outputPath):\n",
    "        os.makedirs(outputPath)\n",
    "uw.barrier()\n",
    "outputPathvelplanes = os.path.join(os.path.abspath(\".\"),\"velplanes/\")\n",
    "\n",
    "if uw.rank()==0:\n",
    "    if not os.path.exists(outputPathvelplanes):\n",
    "        os.makedirs(outputPathvelplanes)\n",
    "uw.barrier()\n",
    "\n",
    "#==========================================================================\n",
    "# Resolution\n",
    "#==========================================================================\n",
    "xRes      =  256\n",
    "zRes      =  64\n",
    "yRes      =  64\n",
    "\n",
    "#==========================================================================\n",
    "# Initialise time variables/ restart\n",
    "#==========================================================================\n",
    "# Inizialise time variables\n",
    "time         = 157.              # Initial time\n",
    "step         = 0                 # Initial timestep\n",
    "maxSteps     = 900 #360     # Maximum timesteps (201 is recommended)\n",
    "steps_output = 20      # output every 10 timesteps\n",
    "nsteps       = (maxSteps /steps_output)+1   #because i want 0 step\n",
    "\n",
    "#==========================================================================\n",
    "# Initialise rheology type\n",
    "#=========================================================================\n",
    "# If mode testing is on it will produce a xdmf file to check phase and T profile.\n",
    "Testing_mode            = 'off'\n",
    "Temperature_mode        = 'off'\n",
    "Elasticity_mode         = 'off'\n",
    "Creep_mode              = 'off'\n",
    "rhoTdep_mode            = 'off'\n",
    "visualise_InitEtaRho    = 'off'\n",
    "VP_mode                 = 'off'\n",
    "\n",
    "#==========================================================================\n",
    "# Monitor simulation time\n",
    "#==========================================================================\n",
    "comm = mpi4py.MPI.COMM_WORLD\n",
    "rank = comm.Get_rank()\n",
    "size = comm.Get_size()\n",
    "## Start writing log\n",
    "if rank==0:\n",
    "    import time as timekeeper\n",
    "    tStart = timekeeper.time()\n",
    "    fw = open(\"Log.txt\",\"w\")\n",
    "    fw.write(\"%s \\n\" %(timekeeper.ctime()))\n",
    "    fw.write(\"Running on %i proc(s). \\n\" %size)\n",
    "    fw.close()\n",
    "uw.barrier()"
   ]
  }
 ],
 "metadata": {
  "kernelspec": {
   "display_name": "Python 2",
   "language": "python",
   "name": "python2"
  },
  "language_info": {
   "codemirror_mode": {
    "name": "ipython",
    "version": 2
   },
   "file_extension": ".py",
   "mimetype": "text/x-python",
   "name": "python",
   "nbconvert_exporter": "python",
   "pygments_lexer": "ipython2",
   "version": "2.7.12"
  }
 },
 "nbformat": 4,
 "nbformat_minor": 1
}
