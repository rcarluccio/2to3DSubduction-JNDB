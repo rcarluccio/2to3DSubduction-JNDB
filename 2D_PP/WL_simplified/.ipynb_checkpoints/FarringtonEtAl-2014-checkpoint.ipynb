{
 "cells": [
  {
   "cell_type": "markdown",
   "metadata": {},
   "source": [
    "The role of viscoelasticity in subducting plates\n",
    "======\n",
    "\n",
    "This notebook models a two dimensional viscoelastic subducting plate, as outlined in [Farrington et al, (2014)](http://onlinelibrary.wiley.com/doi/10.1002/2014GC005507/abstract). A dense, high viscosity 3 layered plate overlies a lower viscosity mantle. The upper and lower plate layers have a visco-plastic rheology, yielding under large stress. The middle, core layer has a viscoelastic rheology. The top 600 km of the upper mantle is included. The velocity boundary conditions on the domain are period side, free-slip top and no-slip bottom wall. This notebook reproduces the subducting plate shown in Figure 4(e), highlighting elastic stresses within the slab hinge.\n",
    "\n",
    "**References**\n",
    "\n",
    "Farrington, R. J., L.-N. Moresi, and F. A. Capitanio (2014), The role of viscoelasticity in subducting plates, Geochem. Geophys. Geosyst., 15, 4291–4304, http://onlinelibrary.wiley.com/doi/10.1002/2014GC005507/abstract.\n"
   ]
  },
  {
   "cell_type": "markdown",
   "metadata": {},
   "source": [
    "![title](input/devStressInv-eta2e4-mu8.5e2-dt650.png)\n",
    "![title](input/devStressInv-eta2e4-mu8.5e0-dt800.png)"
   ]
  },
  {
   "cell_type": "code",
   "execution_count": 1,
   "metadata": {},
   "outputs": [],
   "source": [
    "import underworld as uw\n",
    "import math\n",
    "from underworld import function as fn\n",
    "import glucifer\n",
    "import numpy as np\n",
    "import os"
   ]
  },
  {
   "cell_type": "code",
   "execution_count": 2,
   "metadata": {},
   "outputs": [],
   "source": [
    "outputPath = os.path.join(os.path.abspath(\".\"),\"output/\")\n",
    "\n",
    "if uw.rank()==0:\n",
    "    if not os.path.exists(outputPath):\n",
    "        os.makedirs(outputPath)\n",
    "uw.barrier()"
   ]
  },
  {
   "cell_type": "markdown",
   "metadata": {},
   "source": [
    "**Setup parameters**\n"
   ]
  },
  {
   "cell_type": "code",
   "execution_count": 3,
   "metadata": {},
   "outputs": [],
   "source": [
    "# 576 x 128 resolution in paper\n",
    "xRes = 288 # 576 \n",
    "yRes = 64  # 128 "
   ]
  },
  {
   "cell_type": "markdown",
   "metadata": {},
   "source": [
    "**Create mesh and finite element variables**"
   ]
  },
  {
   "cell_type": "code",
   "execution_count": 4,
   "metadata": {},
   "outputs": [],
   "source": [
    "mesh = uw.mesh.FeMesh_Cartesian( elementType = (\"Q1/dQ0\"),\n",
    "                                 elementRes  = (xRes, yRes), \n",
    "                                 minCoord    = (0., 0.4), \n",
    "                                 maxCoord    = (4., 1.0),\n",
    "                                 periodic    = [True, False] ) \n",
    "\n",
    "velocityField   = uw.mesh.MeshVariable( mesh=mesh,         nodeDofCount=2 )\n",
    "pressureField   = uw.mesh.MeshVariable( mesh=mesh.subMesh, nodeDofCount=1 )"
   ]
  },
  {
   "cell_type": "markdown",
   "metadata": {},
   "source": [
    "If reloading from checkpoint, load these files"
   ]
  },
  {
   "cell_type": "code",
   "execution_count": 5,
   "metadata": {},
   "outputs": [],
   "source": [
    "# ## load mesh, velocity, pressure, temperature & temperatureDot fields via checkpoint files\n",
    "# step = X\n",
    "# time = X\n",
    "# velocityField.load(      outputPath+'velocityField.'+       str(step).zfill(5) +'.h5') \n",
    "# pressureField.load(      outputPath+'pressureField.'+       str(step).zfill(5) +'.h5') "
   ]
  },
  {
   "cell_type": "markdown",
   "metadata": {},
   "source": [
    "else initialise velocity and pressure field"
   ]
  },
  {
   "cell_type": "code",
   "execution_count": 6,
   "metadata": {},
   "outputs": [],
   "source": [
    "# set initial conditions (and boundary values)\n",
    "velocityField.data[:] = [0.,0.]\n",
    "pressureField.data[:] = 0."
   ]
  },
  {
   "cell_type": "markdown",
   "metadata": {
    "collapsed": true
   },
   "source": [
    "**Create a particle swarm and variables**"
   ]
  },
  {
   "cell_type": "code",
   "execution_count": 7,
   "metadata": {},
   "outputs": [],
   "source": [
    "swarm = uw.swarm.Swarm( mesh=mesh )\n",
    "# variables required for model setup\n",
    "materialVariable       = swarm.add_variable( dataType=\"int\",   count=1 )\n",
    "previousStress         = swarm.add_variable( dataType=\"double\",count=3 )\n",
    "# variables required for analysis\n",
    "dissipation            = swarm.add_variable( dataType=\"double\",count=1 )\n",
    "storedEneryRate        = swarm.add_variable( dataType=\"double\",count=1 )"
   ]
  },
  {
   "cell_type": "markdown",
   "metadata": {},
   "source": [
    "If reloading from checkpoint, load these files"
   ]
  },
  {
   "cell_type": "code",
   "execution_count": 8,
   "metadata": {},
   "outputs": [],
   "source": [
    "# # load swarm, materialVariable and viscosityVariable from checkpoint\n",
    "# swarm.load(           outputPath +'swarm.'           + str(step).zfill(5) +'.h5')  \n",
    "# materialVariable.load(outputPath +'materialVariable.'+ str(step).zfill(5) +'.h5')\n",
    "# previousStress.load(  outputPath +'previousStress.'  + str(step).zfill(5) +'.h5')  \n",
    "# dissipation.load(     outputPath +'dissipation.'     + str(step).zfill(5) +'.h5')  \n",
    "# storedEneryRate.load( outputPath +'storedEneryRate.' + str(step).zfill(5) +'.h5')  "
   ]
  },
  {
   "cell_type": "markdown",
   "metadata": {},
   "source": [
    "else, populate swarm, initialise variables and allocate materials to particles"
   ]
  },
  {
   "cell_type": "code",
   "execution_count": 9,
   "metadata": {},
   "outputs": [],
   "source": [
    "swarmLayout = uw.swarm.layouts.GlobalSpaceFillerLayout( swarm=swarm, particlesPerCell=20 )\n",
    "swarm.populate_using_layout( layout=swarmLayout )\n",
    "\n",
    "previousStress.data[:] = [0., 0., 0.]"
   ]
  },
  {
   "cell_type": "code",
   "execution_count": 10,
   "metadata": {},
   "outputs": [],
   "source": [
    "# initialise the 'materialVariable' data to represent two different materials. \n",
    "upperMantleIndex = 1\n",
    "upperSlabIndex   = 2\n",
    "lowerSlabIndex   = 3\n",
    "coreSlabIndex    = 4\n",
    "\n",
    "# Initial material layout has a flat lying slab with at 15\\degree perturbation\n",
    "slabLowerShape = np.array([ (1.2,0.925 ), (3.25,0.925 ), (3.20,0.900), (1.2,0.900), (1.02,0.825), (1.02,0.850) ])\n",
    "slabCoreShape  = np.array([ (1.2,0.975 ), (3.35,0.975 ), (3.25,0.925), (1.2,0.925), (1.02,0.850), (1.02,0.900) ])\n",
    "slabUpperShape = np.array([ (1.2,1.000 ), (3.40,1.000 ), (3.35,0.975), (1.2,0.975), (1.02,0.900), (1.02,0.925) ])\n",
    "\n",
    "slabLower = fn.shape.Polygon( slabLowerShape )\n",
    "slabUpper = fn.shape.Polygon( slabUpperShape )\n",
    "slabCore  = fn.shape.Polygon( slabCoreShape )"
   ]
  },
  {
   "cell_type": "code",
   "execution_count": 11,
   "metadata": {},
   "outputs": [],
   "source": [
    "# initialise everying to be upper mantle material\n",
    "materialVariable.data[:] = upperMantleIndex\n",
    "\n",
    "# change matieral index if the particle is not upper mantle\n",
    "for index in range( len(swarm.particleCoordinates.data) ):\n",
    "    coord = swarm.particleCoordinates.data[index][:]\n",
    "    if slabUpper.evaluate(tuple(coord)):\n",
    "            materialVariable.data[index] = upperSlabIndex\n",
    "    if slabLower.evaluate(tuple(coord)):\n",
    "            materialVariable.data[index] = lowerSlabIndex\n",
    "    elif slabCore.evaluate(tuple(coord)):\n",
    "        materialVariable.data[index] = coreSlabIndex"
   ]
  },
  {
   "cell_type": "markdown",
   "metadata": {},
   "source": [
    "**Plot the initial positions for the particle swarm and colour by material type**"
   ]
  },
  {
   "cell_type": "code",
   "execution_count": 12,
   "metadata": {},
   "outputs": [
    {
     "data": {
      "text/html": [
       "<img src='data:image/png;base64,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'>"
      ],
      "text/plain": [
       "<IPython.core.display.HTML object>"
      ]
     },
     "metadata": {},
     "output_type": "display_data"
    }
   ],
   "source": [
    "figParticle = glucifer.Figure(figsize=(960,300), title=\"Particle Index\" )\n",
    "figParticle.append( glucifer.objects.Points(swarm, materialVariable, pointSize=1, \n",
    "                                            colours='white green red purple blue', discrete=True) )\n",
    "figParticle.show()"
   ]
  },
  {
   "cell_type": "markdown",
   "metadata": {},
   "source": [
    "**Rheology functions**\n",
    "\n",
    "The upper and lower slab layer weakens under high strain, it has a viscoplastic rheology.  \n",
    "The slab core maintains strength under high strain, it has a viscoelastic rheology"
   ]
  },
  {
   "cell_type": "code",
   "execution_count": 13,
   "metadata": {},
   "outputs": [],
   "source": [
    "# define material viscosities\n",
    "upperMantleViscosity = 1.0   # upper mantle reference viscosity 1.4e19 Pa.s\n",
    "slabViscosity        = 2.0e2\n",
    "coreViscosity        = 2.0e4 # shear viscosity"
   ]
  },
  {
   "cell_type": "markdown",
   "metadata": {},
   "source": [
    "Stress is scaled to SI units using the reference stress, $\\tau = \\rho g h \\, \\tau'$ Pa.s\n",
    "\n",
    "Time is scaled to SI units using the reference viscosity of the upper mantle and stress, $t = \\frac{\\eta_{um}}{\\rho g h} t'$ s"
   ]
  },
  {
   "cell_type": "code",
   "execution_count": 14,
   "metadata": {},
   "outputs": [],
   "source": [
    "# define core viscoelastic parameters\n",
    "coreShearModulus        = 8.5e0 # shear modulus = 4.0e9 Pa\n",
    "\n",
    "alpha   = coreViscosity / coreShearModulus # Maxwell relaxation time = 2e6 yrs\n",
    "dt_e    = 20.                              # observation timescale of interest = 2e4 yrs\n",
    "eta_eff = ( coreViscosity * dt_e ) / (alpha + dt_e)  # effective viscosity of viscoelastic slab core"
   ]
  },
  {
   "cell_type": "code",
   "execution_count": 15,
   "metadata": {},
   "outputs": [],
   "source": [
    "# define strain rate tensor\n",
    "strainRate = fn.tensor.symmetric( velocityField.fn_gradient )\n",
    "strainRate_2ndInvariant = fn.tensor.second_invariant(strainRate)\n",
    "\n",
    "# The yeilding of the upper slab is dependent on the strain rate.\n",
    "cohesion = 0.06\n",
    "vonMises = 0.5 * cohesion / (strainRate_2ndInvariant+1.0e-18)\n",
    "\n",
    "# The upper and lower slab viscosity is the minimum of the viscosity and von mises.\n",
    "slabYieldvisc = fn.exception.SafeMaths( fn.misc.min(vonMises, slabViscosity) )"
   ]
  },
  {
   "cell_type": "code",
   "execution_count": 16,
   "metadata": {},
   "outputs": [],
   "source": [
    "# Viscosity function for the materials \n",
    "viscosityMap = { upperMantleIndex : upperMantleViscosity, \n",
    "                 upperSlabIndex   : slabYieldvisc, \n",
    "                 lowerSlabIndex   : slabYieldvisc,\n",
    "                 coreSlabIndex    : eta_eff\n",
    "               }\n",
    "viscosityFn  = fn.branching.map( fn_key = materialVariable, mapping = viscosityMap )"
   ]
  },
  {
   "cell_type": "markdown",
   "metadata": {},
   "source": [
    "**Define stress functions**"
   ]
  },
  {
   "cell_type": "code",
   "execution_count": 17,
   "metadata": {},
   "outputs": [],
   "source": [
    "# define the viscoelastic stress tensor\n",
    "viscousStressFn       = 2. * viscosityFn * strainRate \n",
    "elasticStressFn       = eta_eff / ( coreShearModulus * dt_e ) * previousStress\n",
    "viscoelasticStressFn = viscousStressFn + elasticStressFn\n",
    "\n",
    "# map stress tensor material type\n",
    "stressMap = { upperMantleIndex : viscousStressFn, \n",
    "              upperSlabIndex   : viscousStressFn, \n",
    "              lowerSlabIndex   : viscousStressFn,\n",
    "              coreSlabIndex    : viscoelasticStressFn\n",
    "            }\n",
    "\n",
    "stressFn            = fn.branching.map( fn_key=materialVariable, mapping=stressMap )\n",
    "stress_2ndInvariant = fn.tensor.second_invariant(stressFn)"
   ]
  },
  {
   "cell_type": "markdown",
   "metadata": {},
   "source": [
    "**Define viscous dissipation and elastic stored energy rate functions**"
   ]
  },
  {
   "cell_type": "code",
   "execution_count": 18,
   "metadata": {},
   "outputs": [],
   "source": [
    "# from Farrington et al (2014)\n",
    "viscStrainRateMap = { upperMantleIndex : strainRate, \n",
    "                      upperSlabIndex   : strainRate, \n",
    "                      lowerSlabIndex   : strainRate,\n",
    "                      coreSlabIndex    : (strainRate + previousStress/(2.*coreShearModulus*dt_e))*eta_eff/coreViscosity\n",
    "                    }\n",
    "viscStrainRateFn = fn.branching.map( fn_key=materialVariable, mapping=viscStrainRateMap )\n",
    "elStrainRateFn   = strainRate - viscStrainRateFn\n",
    "\n",
    "dissipationFn = stressFn[0]*viscStrainRateFn[0] + stressFn[1]*viscStrainRateFn[1] + stressFn[2]*viscStrainRateFn[2]\n",
    "elStoreRateFn = stressFn[0]*elStrainRateFn[0]   + stressFn[1]*elStrainRateFn[1]   + stressFn[2]*elStrainRateFn[2]"
   ]
  },
  {
   "cell_type": "markdown",
   "metadata": {},
   "source": [
    "**Set the density function, vertical unit vector and Buoyancy Force function**\n"
   ]
  },
  {
   "cell_type": "code",
   "execution_count": 19,
   "metadata": {},
   "outputs": [],
   "source": [
    "mantleDensity = 0.0\n",
    "slabDensity   = 1.0 \n",
    "\n",
    "densityMap = { upperMantleIndex : mantleDensity, \n",
    "               upperSlabIndex   : slabDensity, \n",
    "               lowerSlabIndex   : slabDensity, \n",
    "               coreSlabIndex    : slabDensity}\n",
    "densityFn = fn.branching.map( fn_key = materialVariable, mapping = densityMap )\n",
    "\n",
    "# Define our vertical unit vector using a python tuple\n",
    "z_hat = ( 0.0, 1.0 )\n",
    "\n",
    "# now create a buoyancy force vector\n",
    "buoyancyFn = -1.0 * densityFn * z_hat"
   ]
  },
  {
   "cell_type": "markdown",
   "metadata": {},
   "source": [
    "**Set boundary conditions**"
   ]
  },
  {
   "cell_type": "code",
   "execution_count": 20,
   "metadata": {},
   "outputs": [],
   "source": [
    "topWal     = mesh.specialSets[\"MaxJ_VertexSet\"]\n",
    "bottomWall = mesh.specialSets[\"MinJ_VertexSet\"]\n",
    "\n",
    "periodicBC = uw.conditions.DirichletCondition( variable        = velocityField, \n",
    "                                               indexSetsPerDof = ( bottomWall, topWal+bottomWall) ) "
   ]
  },
  {
   "cell_type": "markdown",
   "metadata": {},
   "source": [
    "**System Setup**"
   ]
  },
  {
   "cell_type": "code",
   "execution_count": 21,
   "metadata": {},
   "outputs": [],
   "source": [
    "stokes = uw.systems.Stokes(    velocityField    = velocityField, \n",
    "                               pressureField    = pressureField,\n",
    "                               voronoi_swarm    = swarm, \n",
    "                               conditions       = periodicBC,\n",
    "                               fn_viscosity     = viscosityFn, \n",
    "                               fn_bodyforce     = buoyancyFn,\n",
    "                               fn_stresshistory = elasticStressFn, # include stress history term\n",
    "                          )\n",
    "# Create solver & solve\n",
    "solver = uw.systems.Solver(stokes)"
   ]
  },
  {
   "cell_type": "code",
   "execution_count": 22,
   "metadata": {},
   "outputs": [],
   "source": [
    "# use \"lu\" direct solve if running in serial\n",
    "if(uw.nProcs()==1):\n",
    "    solver.set_inner_method(\"lu\")"
   ]
  },
  {
   "cell_type": "code",
   "execution_count": 23,
   "metadata": {},
   "outputs": [],
   "source": [
    "advector = uw.systems.SwarmAdvector( swarm=swarm, velocityField=velocityField, order=2 )"
   ]
  },
  {
   "cell_type": "markdown",
   "metadata": {},
   "source": [
    "**Analysis tools**"
   ]
  },
  {
   "cell_type": "code",
   "execution_count": 24,
   "metadata": {},
   "outputs": [],
   "source": [
    "#The root mean square Velocity\n",
    "velSquared = uw.utils.Integral( fn.math.dot(velocityField,velocityField), mesh )\n",
    "area = uw.utils.Integral( 1., mesh )\n",
    "Vrms = math.sqrt( velSquared.evaluate()[0]/area.evaluate()[0] )"
   ]
  },
  {
   "cell_type": "code",
   "execution_count": 25,
   "metadata": {},
   "outputs": [],
   "source": [
    "#Plot of Velocity Magnitude\n",
    "figVelocityMag = glucifer.Figure(figsize=(960,300), title=\"Velocity magnitude\" )\n",
    "figVelocityMag.append( glucifer.objects.Surface(mesh, fn.math.sqrt(fn.math.dot(velocityField,velocityField)), onMesh=True) )\n",
    "\n",
    "#Plot of Strain Rate, 2nd Invariant\n",
    "figStrainRate = glucifer.Figure(figsize=(960,300), title=\"Strain rate 2nd invariant\" )\n",
    "figStrainRate.append( glucifer.objects.Surface(mesh, strainRate_2ndInvariant, logScale=True, onMesh=True) )\n",
    "\n",
    "#Plot of particles viscosity\n",
    "figViscosity = glucifer.Figure(figsize=(960,300), title=\"Viscosity\" )\n",
    "figViscosity.append( glucifer.objects.Points(swarm, viscosityFn, pointSize=2) )\n",
    "\n",
    "#Plot of particles stress invariant\n",
    "figStress = glucifer.Figure(figsize=(960,300), title=\"Stress 2nd invariant\"  )\n",
    "figStress.append( glucifer.objects.Points(swarm, stress_2ndInvariant, pointSize=2, logScale=True) )\n"
   ]
  },
  {
   "cell_type": "code",
   "execution_count": 26,
   "metadata": {},
   "outputs": [],
   "source": [
    "# Plot of core Weissenberg number\n",
    "Wi = alpha * strainRate_2ndInvariant  # Weissenberg number\n",
    "materialFilter = materialVariable > 3\n",
    "\n",
    "figWi = glucifer.Figure(figsize=(960,300), title='Weissenberg number')\n",
    "weissenbergGL = glucifer.objects.Points(swarm, Wi, pointSize=1, fn_mask = materialFilter, logScale=True, \n",
    "                                        valueRange=[1.e-4, 1e0], colours='blue cyan green yellow orange red',\n",
    "                                       )\n",
    "weissenbergGL.colourBar[\"tickvalues\"] = [1e-4, 1e-3, 1e-2, 1e-1, 1e0]\n",
    "\n",
    "figWi.append( weissenbergGL )"
   ]
  },
  {
   "cell_type": "code",
   "execution_count": 27,
   "metadata": {},
   "outputs": [],
   "source": [
    "# create dissipation field\n",
    "dissipationField = uw.mesh.MeshVariable( mesh=mesh, nodeDofCount=1 )\n",
    "dissipationProjector = uw.utils.MeshVariable_Projection( dissipationField, dissipation, type=0 )\n",
    "dissipationProjector.solve()\n",
    "\n",
    "# plot dissipation field\n",
    "coreDissipationGL    = glucifer.objects.Points(swarm, dissipation, pointSize=1, fn_mask=materialFilter, \n",
    "                                                logScale=True, valueRange=[1.e-6, 2.5e-4])\n",
    "coreDissipationGL.colourBar[\"tickvalues\"] = [1e-6, 1e-5, 1e-4, 2.5e-4]\n",
    "\n",
    "figDissipation = glucifer.Figure(figsize=(960,300), title=\"Dissipation per unit volume\")\n",
    "figDissipation.append( coreDissipationGL )"
   ]
  },
  {
   "cell_type": "code",
   "execution_count": 28,
   "metadata": {},
   "outputs": [],
   "source": [
    "#Plot of elastic stored rate\n",
    "coreElStorageRateGL = glucifer.objects.Points(swarm, storedEneryRate, pointSize=2, fn_mask=materialFilter,\n",
    "                                              valueRange=[-7.e-4, 7.e-4])                                              \n",
    "\n",
    "figElStoreRate = glucifer.Figure(figsize=(960,300), title=\"Elastic stored energy rate per unit volume\")\n",
    "figElStoreRate.append( coreElStorageRateGL )"
   ]
  },
  {
   "cell_type": "code",
   "execution_count": 29,
   "metadata": {},
   "outputs": [],
   "source": [
    "# only update stress history for viscoelastic material\n",
    "veStressMap = { upperMantleIndex : [0., 0., 0.], \n",
    "                upperSlabIndex   : [0., 0., 0.], \n",
    "                lowerSlabIndex   : [0., 0., 0.],\n",
    "                coreSlabIndex    : viscoelasticStressFn\n",
    "            }\n",
    "veStressFn = fn.branching.map( fn_key=materialVariable, mapping=veStressMap )"
   ]
  },
  {
   "cell_type": "code",
   "execution_count": 30,
   "metadata": {},
   "outputs": [],
   "source": [
    "# Plot of particles stress invariant\n",
    "veStress_2ndInvariant = fn.math.sqrt(0.5*(veStressFn[0]**2+veStressFn[1]**2+veStressFn[2]**2))\n",
    "coreStressGL = glucifer.objects.Points(swarm, veStress_2ndInvariant*4.8e8/1e9, pointSize=2, \n",
    "                                              fn_mask=materialFilter, valueRange=[0, 1.5], \n",
    "                                              colours='white blue cyan green yellow orange red',\n",
    "                                             )\n",
    "coreStressGL.colourBar[\"tickvalues\"] = [0., 0.5, 1.0, 1.5]\n",
    "figCoreStress = glucifer.Figure(figsize=(960,300), title=\"Core Stress 2nd invariant [GPa]\", \n",
    "#                                boundingBox=((1.85,0.8), (2.5,1.))\n",
    "                               )\n",
    "figCoreStress.append(coreStressGL)\n"
   ]
  },
  {
   "cell_type": "markdown",
   "metadata": {},
   "source": [
    "**Update time step, stress history, advect particles**"
   ]
  },
  {
   "cell_type": "code",
   "execution_count": 31,
   "metadata": {},
   "outputs": [],
   "source": [
    "# define an update function\n",
    "def update():\n",
    "    \n",
    "    # Retrieve the maximum possible timestep for the advection system.\n",
    "    dt = advector.get_max_dt() \n",
    "    if dt > ( dt_e / 3. ): # cap dt for observation time, dte/3.\n",
    "        dt = dt_e / 3.  \n",
    "        \n",
    "    # smoothed stress history for use in (t + 1) timestep   \n",
    "    phi = dt / dt_e;\n",
    "    veStressFn_data = veStressFn.evaluate(swarm) # previous stress = 0 for non ve material\n",
    "\n",
    "    # save stress to be transported with particle\n",
    "    previousStress.data[:] = ( phi*veStressFn_data[:] + ( 1.-phi )*previousStress.data[:] )\n",
    "\n",
    "    # Advect using this timestep size.\n",
    "    advector.integrate(dt)\n",
    "    \n",
    "    return time+dt, step+1"
   ]
  },
  {
   "cell_type": "markdown",
   "metadata": {},
   "source": [
    "**Checkpointing function definition**"
   ]
  },
  {
   "cell_type": "code",
   "execution_count": 32,
   "metadata": {},
   "outputs": [],
   "source": [
    "meshHnd = mesh.save(   outputPath+'mesh.00000.h5')\n",
    "def checkpoint():\n",
    "    # update field and swarm variables\n",
    "    dissipation.data[:]     = dissipationFn.evaluate(swarm)\n",
    "    storedEneryRate.data[:] = elStoreRateFn.evaluate(swarm)\n",
    "\n",
    "    dissipationProjector.solve()\n",
    "\n",
    "    # save swarm and swarm variables\n",
    "    swarmHnd            = swarm.save(           outputPath+'swarm.'           + str(step).zfill(5) +'.h5')\n",
    "    materialVariableHnd = materialVariable.save(outputPath+'materialVariable.'+ str(step).zfill(5) +'.h5')\n",
    "    previousStressHnd   = previousStress.save(  outputPath+'previousStress.'  + str(step).zfill(5) +'.h5')\n",
    "    dissipationHnd      = dissipation.save(     outputPath+'dissipation.'     + str(step).zfill(5) +'.h5')\n",
    "    storedEnergyHnd     = storedEneryRate.save( outputPath+'storedEneryRate.' + str(step).zfill(5) +'.h5')\n",
    "    \n",
    "    # save mesh variables\n",
    "    velocityHnd     = velocityField.save(       outputPath+'velocityField.'       + str(step).zfill(5) +'.h5', meshHnd)\n",
    "    pressureHnd     = pressureField.save(       outputPath+'pressureField.'       + str(step).zfill(5) +'.h5', meshHnd)\n",
    "    \n",
    "    # and the xdmf files\n",
    "    materialVariable.xdmf(outputPath+'materialVariable.'+str(step).zfill(5)+'.xdmf',\n",
    "                       materialVariableHnd,\"materialVariable\",swarmHnd,\"swarm\",modeltime=time)\n",
    "    previousStress.xdmf(  outputPath+'previousStress.'  +str(step).zfill(5)+'.xdmf',\n",
    "                       previousStressHnd,  \"previousStress\",  swarmHnd,\"swarm\",modeltime=time)\n",
    "    dissipation.xdmf(    outputPath+'dissipation.'      +str(step).zfill(5)+'.xdmf',\n",
    "                       dissipationHnd,     \"dissipation\",     swarmHnd,\"swarm\",modeltime=time)\n",
    "    storedEneryRate.xdmf(outputPath+'storedEneryRate.'  +str(step).zfill(5)+'.xdmf',\n",
    "                       storedEnergyHnd,    \"storedEnergy\",    swarmHnd,\"swarm\",modeltime=time)\n",
    "    \n",
    "    velocityField.xdmf(       outputPath+'velocityField.'       +str(step).zfill(5)+'.xdmf',\n",
    "                       velocityHnd,     \"velocity\",      meshHnd, \"mesh\",modeltime=time)\n",
    "    pressureField.xdmf(       outputPath+'pressureField.'       +str(step).zfill(5)+'.xdmf',\n",
    "                       pressureHnd,     \"pressure\",      meshHnd, \"mesh\",modeltime=time)\n",
    "\n",
    "    # save visualisation\n",
    "    figParticle.save(    outputPath + \"particle.\"    + str(step).zfill(5))\n",
    "    figVelocityMag.save( outputPath + \"velocityMag.\" + str(step).zfill(5))\n",
    "    figStrainRate.save(  outputPath + \"strainRate.\"  + str(step).zfill(5))\n",
    "    figViscosity.save(   outputPath + \"viscosity.\"   + str(step).zfill(5))\n",
    "    figStress.save(      outputPath + \"stress.\"      + str(step).zfill(5))\n",
    "    figDissipation.save( outputPath + \"dissipation.\" + str(step).zfill(5))\n",
    "    figElStoreRate.save( outputPath + \"elStoreRate.\" + str(step).zfill(5))\n",
    "    figCoreStress.save(  outputPath + \"coreStress.\"  + str(step).zfill(5))\n",
    "    figWi.save(          outputPath + \"stress.\"      + str(step).zfill(5))\n"
   ]
  },
  {
   "cell_type": "markdown",
   "metadata": {},
   "source": [
    "Main simulation loop\n",
    "=======\n",
    "\n",
    "The main time stepping loop begins here. Inside the time loop the velocity field is solved for via the Stokes system solver and then the swarm is advected using the advector integrator. Basic statistics are output to screen each timestep."
   ]
  },
  {
   "cell_type": "code",
   "execution_count": 33,
   "metadata": {},
   "outputs": [],
   "source": [
    "time = 0.  # Initial time\n",
    "step = 0   # Initial timestep"
   ]
  },
  {
   "cell_type": "code",
   "execution_count": 34,
   "metadata": {},
   "outputs": [],
   "source": [
    "maxSteps = 6      # Maximum timesteps (1201 to reproduce figure)\n",
    "steps_output = 5   # output every 10 timesteps"
   ]
  },
  {
   "cell_type": "code",
   "execution_count": null,
   "metadata": {},
   "outputs": [
    {
     "name": "stdout",
     "output_type": "stream",
     "text": [
      "step =      0; time = 0.000e+00; Vrms = 6.623e-05\n"
     ]
    }
   ],
   "source": [
    "while step < maxSteps:\n",
    "    # Solve non linear Stokes system\n",
    "    solver.solve(nonLinearIterate=True)\n",
    "    # output figure to file at intervals = steps_output\n",
    "    if step % steps_output == 0 or step == maxSteps-1:\n",
    "        checkpoint()\n",
    "        Vrms = math.sqrt( velSquared.evaluate()[0]/area.evaluate()[0] )\n",
    "        print 'step = {0:6d}; time = {1:.3e}; Vrms = {2:.3e}'.format(step,time,Vrms)\n",
    "    # update\n",
    "    time,step = update()"
   ]
  },
  {
   "cell_type": "markdown",
   "metadata": {},
   "source": [
    "**Post simulation visualisation**"
   ]
  },
  {
   "cell_type": "code",
   "execution_count": null,
   "metadata": {},
   "outputs": [],
   "source": [
    "figParticle.show()\n",
    "figVelocityMag.show()\n",
    "figStrainRate.show()\n",
    "figViscosity.show()\n",
    "figStress.show()"
   ]
  },
  {
   "cell_type": "code",
   "execution_count": null,
   "metadata": {},
   "outputs": [],
   "source": [
    "figDissipation.show()\n",
    "figElStoreRate.show()\n",
    "figCoreStress.show()\n",
    "figWi.show()"
   ]
  },
  {
   "cell_type": "code",
   "execution_count": null,
   "metadata": {},
   "outputs": [],
   "source": [
    "# save visualisation\n",
    "figParticle.save(    outputPath + \"particle.\"    + str(step).zfill(5))\n",
    "figVelocityMag.save( outputPath + \"velocityMag.\" + str(step).zfill(5))\n",
    "figStrainRate.save(  outputPath + \"strainRate.\"  + str(step).zfill(5))\n",
    "figViscosity.save(   outputPath + \"viscosity.\"   + str(step).zfill(5))\n",
    "figStress.save(      outputPath + \"stress.\"      + str(step).zfill(5))\n",
    "figWi.save(          outputPath + \"wi.\"          + str(step).zfill(5))\n",
    "figDissipation.save( outputPath + \"dissipation.\" + str(step).zfill(5))\n",
    "figElStoreRate.save( outputPath + \"elStoreRate.\" + str(step).zfill(5))\n",
    "figCoreStress.save(  outputPath + \"coreStress.\"  + str(step).zfill(5))\n"
   ]
  },
  {
   "cell_type": "code",
   "execution_count": null,
   "metadata": {},
   "outputs": [],
   "source": [
    "coreStressGL = glucifer.objects.Points(swarm, veStress_2ndInvariant*4.8e8/1e9, pointSize=3, \n",
    "                                              fn_mask=materialFilter, valueRange=[0, 1.5], \n",
    "                                              colours='white blue cyan green yellow orange red',\n",
    "                                             )\n",
    "coreStressGL.colourBar[\"tickvalues\"] = [0., 0.5, 1.0, 1.5]\n",
    "figCoreStress = glucifer.Figure(figsize=(960,300), title=\"Core Stress 2nd invariant [GPa], Relaxation time = 2e6 yrs\", \n",
    "                                boundingBox=((0.85,0.8), (1.5,1.)), quality=2\n",
    "                               )\n",
    "figCoreStress.append(coreStressGL)\n",
    "figCoreStress.show()"
   ]
  },
  {
   "cell_type": "code",
   "execution_count": null,
   "metadata": {},
   "outputs": [],
   "source": []
  },
  {
   "cell_type": "code",
   "execution_count": null,
   "metadata": {},
   "outputs": [],
   "source": []
  }
 ],
 "metadata": {
  "kernelspec": {
   "display_name": "Python 2",
   "language": "python",
   "name": "python2"
  },
  "language_info": {
   "codemirror_mode": {
    "name": "ipython",
    "version": 2
   },
   "file_extension": ".py",
   "mimetype": "text/x-python",
   "name": "python",
   "nbconvert_exporter": "python",
   "pygments_lexer": "ipython2",
   "version": "2.7.13"
  }
 },
 "nbformat": 4,
 "nbformat_minor": 1
}
